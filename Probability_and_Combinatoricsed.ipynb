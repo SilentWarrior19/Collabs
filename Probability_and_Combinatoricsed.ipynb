{
  "cells": [
    {
      "cell_type": "markdown",
      "metadata": {
        "id": "view-in-github",
        "colab_type": "text"
      },
      "source": [
        "<a href=\"https://colab.research.google.com/github/SilentWarrior19/Collabs/blob/main/Probability_and_Combinatoricsed.ipynb\" target=\"_parent\"><img src=\"https://colab.research.google.com/assets/colab-badge.svg\" alt=\"Open In Colab\"/></a>"
      ]
    },
    {
      "cell_type": "markdown",
      "metadata": {
        "id": "MDMTfwv5lAVI"
      },
      "source": [
        "## What is a Set?\n",
        "\n",
        "In probability theory, a set is defined as a _well-defined collection of distinct objects_. In other words, it contains 0 or more unique items, and is defined unambiguously, so that it is clear whether any given item is an element of the set.\n",
        "\n",
        "$x = y$\n",
        "\n",
        "$x < y$\n",
        "\n",
        "$A \\cup B$\n",
        "\n",
        "$S$"
      ]
    },
    {
      "cell_type": "markdown",
      "metadata": {
        "id": "k-iuHgR3lExj"
      },
      "source": [
        "## Defining a set in python\n"
      ]
    },
    {
      "cell_type": "code",
      "execution_count": null,
      "metadata": {
        "colab": {
          "base_uri": "https://localhost:8080/"
        },
        "id": "qbD4UcG8kQ7S",
        "outputId": "12134a9b-3d7d-4921-f3f5-2fc1b959f309"
      },
      "outputs": [
        {
          "data": {
            "text/plain": [
              "set"
            ]
          },
          "execution_count": 72,
          "metadata": {},
          "output_type": "execute_result"
        }
      ],
      "source": [
        "\n",
        "S = {1,2,3,3,3,4}\n",
        "type(s)"
      ]
    },
    {
      "cell_type": "code",
      "execution_count": null,
      "metadata": {
        "colab": {
          "base_uri": "https://localhost:8080/"
        },
        "id": "kA56vt-WX8oP",
        "outputId": "af013a5a-b8b2-4519-b345-374b5add0e27"
      },
      "outputs": [
        {
          "data": {
            "text/plain": [
              "{1, 2, 3}"
            ]
          },
          "execution_count": 74,
          "metadata": {},
          "output_type": "execute_result"
        }
      ],
      "source": [
        "S"
      ]
    },
    {
      "cell_type": "markdown",
      "metadata": {
        "id": "pe7yl5Vzloc2"
      },
      "source": [
        "membersship notation\n",
        "\n",
        "$x \\in S$"
      ]
    },
    {
      "cell_type": "code",
      "execution_count": null,
      "metadata": {
        "id": "RorK0mfZY9FC"
      },
      "outputs": [],
      "source": [
        "# empty set\n",
        "S ={}"
      ]
    },
    {
      "cell_type": "markdown",
      "metadata": {
        "id": "0mbhGQEalyft"
      },
      "source": [
        "### Other Important Set Definitions\n",
        "\n",
        "#### Universal Sets\n",
        "\n",
        "The collection of all possible outcomes in a certain context or universe is called the **universal set**. A universal set is often denoted by \\( U \\).\n",
        "\n",
        "#### Empty Sets\n",
        "\n",
        "When there are no elements in a certain set, this set is **empty**, denoted by \\( \\emptyset \\) or simply \\( \\{ \\} \\).\n",
        "\n",
        "#### Subsets\n",
        "\n",
        "A set \\( B \\) is a **subset** of another set \\( A \\) if every element of \\( B \\) is also an element of \\( A \\). This relationship is denoted by \\( B \\subseteq A \\).\n",
        "\n",
        "### Proper Subsets\n",
        "\n",
        "A _proper subset_ of a set \\( B \\) is a subset that contains some elements of \\( A \\), but not all. It is denoted by \\( B \\subset A \\).\n",
        "\n",
        "### Supersets\n",
        "\n",
        "A _superset_ of a set \\( A \\) contains all the elements of \\( C \\), and possibly additional elements. It is denoted by \\( C \\supset A \\).\n"
      ]
    },
    {
      "cell_type": "code",
      "execution_count": null,
      "metadata": {
        "id": "k7N80KoIlqRb"
      },
      "outputs": [],
      "source": [
        "# Setting up example sets\n",
        "A = {1, 2, 3,7}\n",
        "B = {1, 2, 3,8,0}\n",
        "C = {1, 2}"
      ]
    },
    {
      "cell_type": "code",
      "execution_count": null,
      "metadata": {
        "colab": {
          "base_uri": "https://localhost:8080/"
        },
        "id": "n6N7C4usmRiu",
        "outputId": "28b8d667-1160-4ef6-da40-865422788892"
      },
      "outputs": [
        {
          "data": {
            "text/plain": [
              "True"
            ]
          },
          "execution_count": 4,
          "metadata": {},
          "output_type": "execute_result"
        }
      ],
      "source": [
        "C.issubset(A)"
      ]
    },
    {
      "cell_type": "code",
      "execution_count": null,
      "metadata": {
        "colab": {
          "base_uri": "https://localhost:8080/"
        },
        "id": "0DqAKiblaVgJ",
        "outputId": "1108caee-b930-46a8-8b81-38cd754a7875"
      },
      "outputs": [
        {
          "data": {
            "text/plain": [
              "True"
            ]
          },
          "execution_count": 79,
          "metadata": {},
          "output_type": "execute_result"
        }
      ],
      "source": [
        "S_A = {1,2,3}\n",
        "S_B = {1,2}\n",
        "S_B.issubset(S_A)"
      ]
    },
    {
      "cell_type": "markdown",
      "metadata": {
        "id": "KmcyouzrmifW"
      },
      "source": [
        "# symbol Notation"
      ]
    },
    {
      "cell_type": "code",
      "execution_count": null,
      "metadata": {
        "id": "LtQ2KeQGmhuU"
      },
      "outputs": [],
      "source": [
        "#subset\n",
        "C <= A"
      ]
    },
    {
      "cell_type": "code",
      "execution_count": null,
      "metadata": {
        "id": "sZYmxrN2m8b7"
      },
      "outputs": [],
      "source": [
        "#proper subset\n",
        "C < A"
      ]
    },
    {
      "cell_type": "markdown",
      "metadata": {
        "id": "w-yln-yimpl2"
      },
      "source": [
        "## Core Set Operations\n",
        "\n",
        "### Union of Two Sets\n",
        "\n",
        "The **union** of two sets S and T, denoted by ( S ∪ T ) , is the set containing all elements that are in either S or T, or in both.\n",
        "\n",
        "For example, if we have sets S = {1, 2, 3} and T = {3, 4, 5}, the union of S and T is given by S ∪ T = {1, 2, 3, 4, 5}. (Note that even though 3 appeared in both sets originally, it only appears once in the resulting union.)\n",
        "\n",
        "\n",
        "\n"
      ]
    },
    {
      "cell_type": "code",
      "execution_count": null,
      "metadata": {
        "colab": {
          "base_uri": "https://localhost:8080/"
        },
        "id": "QZO0_Fa0mqtx",
        "outputId": "5ef59474-e6f4-49fb-82fe-3570fb5f6bde"
      },
      "outputs": [
        {
          "data": {
            "text/plain": [
              "{0, 1, 2, 3, 7, 8}"
            ]
          },
          "execution_count": 84,
          "metadata": {},
          "output_type": "execute_result"
        }
      ],
      "source": [
        "A | B\n",
        "# A.union(B)"
      ]
    },
    {
      "cell_type": "code",
      "execution_count": null,
      "metadata": {
        "id": "-VzdnlFBbek0"
      },
      "outputs": [],
      "source": [
        "S_A = {1,2,3}\n",
        "S_B = {3,4,5}\n",
        "\n",
        "S_A.union(S_B)"
      ]
    },
    {
      "cell_type": "markdown",
      "metadata": {
        "id": "Kr3j8EewnFMT"
      },
      "source": [
        "### b) Intersection of Two Sets\n",
        "\n",
        "The **intersection** of two sets \\( A \\) and \\( B \\), denoted by \\( A n B \\), is the set containing all elements that belong to both \\( A \\) and \\( B \\).\n",
        "\n",
        "For example, if we have sets \\( A = \\{2, 4, 6, 8, ...\\} \\) and \\( B = \\{3, 6, 9, 12, ...\\} \\), the intersection of \\( A \\) and \\( B \\) is given by \\( A n B = \\{6, 12, 18, ...\\} \\), so it contains the elements that are multiples of both 2 AND 3.\n",
        "\n",
        "\n",
        "\n"
      ]
    },
    {
      "cell_type": "code",
      "execution_count": null,
      "metadata": {
        "colab": {
          "base_uri": "https://localhost:8080/"
        },
        "id": "XntTdyurnGXb",
        "outputId": "d29796a2-badb-4a2d-ddf0-a70ca058b9de"
      },
      "outputs": [
        {
          "data": {
            "text/plain": [
              "{1, 2, 3}"
            ]
          },
          "execution_count": 6,
          "metadata": {},
          "output_type": "execute_result"
        }
      ],
      "source": [
        "A & B\n",
        "A.intersection(B)"
      ]
    },
    {
      "cell_type": "code",
      "execution_count": null,
      "metadata": {
        "colab": {
          "background_save": true
        },
        "id": "pmgGyN6vcWaM",
        "outputId": "7409df9f-d8ef-4eb9-842a-acc6b192978d"
      },
      "outputs": [
        {
          "data": {
            "text/plain": [
              "{3}"
            ]
          },
          "execution_count": 86,
          "metadata": {},
          "output_type": "execute_result"
        }
      ],
      "source": []
    },
    {
      "cell_type": "markdown",
      "metadata": {
        "id": "DgYwoX37nVcq"
      },
      "source": [
        "### c) Relative Complement or the Difference\n",
        "\n",
        "In general, the **complement** of a set refers to the elements that are not present in that set. One way to define this is by finding all the elements of one set that are not present in another set — known as the **relative complement** or **difference**.\n",
        "\n",
        "For example, if we have two sets \\( A \\) and \\( B \\), denoted by \\( A - B \\), the relative complement or difference of \\( A \\) with respect to \\( B \\) consists of all elements that are in \\( A \\) but not in \\( B \\). Similarly, \\( B - A \\) represents the elements in \\( B \\) but not in \\( A \\).\n"
      ]
    },
    {
      "cell_type": "code",
      "execution_count": null,
      "metadata": {
        "colab": {
          "base_uri": "https://localhost:8080/"
        },
        "id": "Nc63ydlcnYCa",
        "outputId": "e0426d87-335f-4cf0-c0a6-2e50899a51f6"
      },
      "outputs": [
        {
          "data": {
            "text/plain": [
              "{0, 8}"
            ]
          },
          "execution_count": 48,
          "metadata": {},
          "output_type": "execute_result"
        }
      ],
      "source": [
        "A - B\n",
        "A.difference(B)"
      ]
    },
    {
      "cell_type": "markdown",
      "metadata": {
        "id": "pPZzKJJXnx9e"
      },
      "source": [
        "### d) Absolute Complement\n",
        "\n",
        "Another way to define the complement is to find all elements that are not in the universal set — known as the **absolute complement**.\n",
        "\n",
        "For example, let's consider a universal set \\( U \\) containing all integers from 1 to 10. If we have a set \\( A = \\{1, 2, 3\\} \\), then the absolute complement of \\( A \\), denoted by \\( A' \\), consists of all integers from 4 to 10 that are not present in set \\( A \\). Similarly, if we have a set \\( B = \\{4, 5, 6\\} \\), then the absolute complement of \\( B \\), denoted by \\( B' \\), consists of all integers from 1 to 3 and from 7 to 10 that are not present in set \\( B \\).\n",
        "\n",
        "\n",
        "\n"
      ]
    },
    {
      "cell_type": "code",
      "execution_count": null,
      "metadata": {
        "colab": {
          "base_uri": "https://localhost:8080/"
        },
        "id": "KX8FB3Jb-Eve",
        "outputId": "c9ae411d-4a3b-4686-8118-85392ef30faa"
      },
      "outputs": [
        {
          "data": {
            "text/plain": [
              "{4, 5, 6, 8, 9, 10}"
            ]
          },
          "execution_count": 51,
          "metadata": {},
          "output_type": "execute_result"
        }
      ],
      "source": [
        "U = set(range(1, 11))\n",
        "A_complement = U - A\n",
        "U.difference(A)"
      ]
    },
    {
      "cell_type": "markdown",
      "metadata": {
        "id": "pV-w41pC-DWC"
      },
      "source": [
        "### Cardinality\n",
        "\n",
        "The _cardinality_ of a set is simply the number of elements in the set."
      ]
    },
    {
      "cell_type": "code",
      "execution_count": null,
      "metadata": {
        "colab": {
          "base_uri": "https://localhost:8080/"
        },
        "id": "F6NXjDtz-gl7",
        "outputId": "16403ff5-ddf4-4b32-8a3b-94ed475401f5"
      },
      "outputs": [
        {
          "data": {
            "text/plain": [
              "10"
            ]
          },
          "execution_count": 53,
          "metadata": {},
          "output_type": "execute_result"
        }
      ],
      "source": [
        "len(U)"
      ]
    },
    {
      "cell_type": "markdown",
      "metadata": {
        "id": "uploaUS8n_xV"
      },
      "source": [
        "# Introduction to Probability\n",
        "\n",
        "## Probability Terminology\n",
        "\n",
        "For the following examples, we will consider what happens when throwing a single 6-sided die"
      ]
    },
    {
      "cell_type": "markdown",
      "metadata": {
        "id": "rdwwgN_Oobk2"
      },
      "source": [
        "### Experiments and Outcomes\n",
        "\n",
        "When you throw a die once, you can consider this a **_random experiment_**. The result of this \"experiment\" is the **_outcome_**. So, for example, the outcome could be a 2.\n",
        "\n",
        "### Events\n",
        "\n",
        "An **_event_** is the outcome of a particular random experiment. So, for example, \"rolling the die and getting a 5\" is an event.\n",
        "\n",
        "### Sample Spaces\n",
        "\n",
        "The **_sample space_** represents the universe of all possible outcomes. With our die rolling example, that space includes the values of 1, 2, 3, 4, 5, and 6.\n",
        "\n",
        "### Event Spaces\n",
        "\n",
        "The **_event space_** is a subset of the sample space. You can think of it as the collection of events we \"care about\" out of all possible events. For example, our event space could be \"rolling a number higher than a 4\", which would include the values of 5 and 6.\n",
        "\n",
        "\n",
        "**1. Probability Basics:**\n",
        "\n",
        "- Probability measures the likelihood of an event occurring. It ranges from 0 (impossible) to 1 (certain).\n",
        "- Example: Rolling a fair six-sided die. Each outcome has a probability of 1661​.\n",
        "\n",
        "**2. Probability Definitions:**\n",
        "\n",
        "- \\( P(A) \\): Probability of event \\( A \\) occurring.\n",
        "- \\( P( - A) \\): Probability of event \\( A \\) not occurring (\\( 1 - P(A) \\)).\n",
        "- \\( P(A n B) \\): Probability of both events \\( A \\) and \\( B \\) occurring.\n",
        "- \\( P(A u B) \\): Probability of either event \\( A \\) or event \\( B \\) occurring.\n",
        "- \\( P(A|B) \\): Conditional probability of \\( A \\) given \\( B \\).\n"
      ]
    },
    {
      "cell_type": "markdown",
      "metadata": {
        "id": "RcEm1xMVs753"
      },
      "source": [
        "# Formulae for getting probability\n",
        "\n",
        "Single event probability refers to the likelihood of a specific outcome occurring in a single trial or event of an experiment or random process. It is usually denoted by P(A), where E represents the event of interest.\n",
        "\n",
        "### 1. Single Event Probability:\n",
        "\n",
        "Formula: $$ P(A) = \\frac{{\\text{Number of favorable outcomes}}}{{\\text{Total number of outcomes}}} $$\n",
        "\n",
        "Example: Rolling a fair six-sided die, the probability of getting a 4 is \\( P(4) = \\frac{1}{6} \\).\n"
      ]
    },
    {
      "cell_type": "markdown",
      "metadata": {
        "id": "FtMJR8qUu9kE"
      },
      "source": [
        "### 1. Single Event Probability:"
      ]
    },
    {
      "cell_type": "code",
      "execution_count": null,
      "metadata": {
        "colab": {
          "base_uri": "https://localhost:8080/"
        },
        "id": "smY7zHVKnwFN",
        "outputId": "561aac60-2b82-46bd-f9ed-c07f2d2afd85"
      },
      "outputs": [
        {
          "data": {
            "text/plain": [
              "0.16666666666666666"
            ]
          },
          "execution_count": 56,
          "metadata": {},
          "output_type": "execute_result"
        }
      ],
      "source": [
        "# Example: Rolling a fair six-sided die\n",
        "sample_space = [1, 2, 3, 4, 5, 6]\n",
        "event = 4\n",
        "probability = 1 / len(sample_space)\n",
        "probability"
      ]
    },
    {
      "cell_type": "markdown",
      "metadata": {
        "id": "Ydpuw1x3tZrq"
      },
      "source": [
        "### 2. Complementary Probability:\n",
        "\n",
        "Complementary probability, also known as the complement probability, is the probability that an event does not occur. It is denoted by P(A'), where A' represents the complement of the event A.\n",
        "\n",
        "Formula: $$ P(\\neg A) = 1 - P(A) $$\n",
        "\n",
        "Example: Not rolling a 3 on a six-sided die, $$ P(\\neg 3) = 1 - \\frac{1}{6} = \\frac{5}{6} $$.\n"
      ]
    },
    {
      "cell_type": "markdown",
      "metadata": {
        "id": "MHEI5liRvGGe"
      },
      "source": [
        "### 2. Complementary Probability:"
      ]
    },
    {
      "cell_type": "code",
      "execution_count": null,
      "metadata": {
        "id": "d7X65MZbvJ0Q"
      },
      "outputs": [],
      "source": [
        "# Example: Not rolling a 3 on a six-sided die\n",
        "sample_space = [1, 2, 3, 4, 5, 6]\n",
        "event = 3\n",
        "complementary_probability = 1 - (1 / len(sample_space))"
      ]
    },
    {
      "cell_type": "markdown",
      "metadata": {
        "id": "VY7pIfevtwt-"
      },
      "source": [
        "### 3. Joint Probability:\n",
        "\n",
        "Joint probability refers to the probability of two or more events occurring simultaneously. It is denoted by P(A∩B)P(A∩B), where AA and BB are the events of interest.\n",
        "\n",
        "Mathematically, the joint probability of events AA and BB is calculated as:\n",
        "\n",
        "P(A∩B)=P(A)×P(B∣A)P(A∩B)=P(A)×P(B∣A)\n",
        "\n",
        "where P(A)P(A) is the probability of event AA occurring, and P(B∣A)P(B∣A) is the conditional probability of event BB occurring given that event AA has occurred.\n",
        "\n",
        "In the case of independent events (events that do not influence each other), the joint probability simplifies to:\n",
        "\n",
        "P(A∩B)=P(A)×P(B)P(A∩B)=P(A)×P(B)\n",
        "\n",
        "Formula: $$ P(A \\cap B) = \\frac{{\\text{Number of outcomes where both events A and B occur}}}{{\\text{Total number of outcomes}}} $$\n",
        "\n",
        "Example: Rolling two dice and getting a 4 on both, $$ P(\\text{4 on both rolls}) = \\frac{1}{36} $$.\n"
      ]
    },
    {
      "cell_type": "markdown",
      "metadata": {
        "id": "aG5sinIZvSJb"
      },
      "source": [
        "### 3. Joint Probability:"
      ]
    },
    {
      "cell_type": "markdown",
      "metadata": {
        "id": "Dnns62qIT7qt"
      },
      "source": [
        "Joint probability refers to the probability of two or more events occurring simultaneously. It is denoted by P(A∩B)P(A∩B), where AA and BB are the events of interest."
      ]
    },
    {
      "cell_type": "code",
      "execution_count": null,
      "metadata": {
        "colab": {
          "base_uri": "https://localhost:8080/"
        },
        "id": "y4HUBPz_vSzt",
        "outputId": "fcd72591-d7ed-4611-8c93-ce21aa3c82c5"
      },
      "outputs": [
        {
          "data": {
            "text/plain": [
              "[(1, 1),\n",
              " (1, 2),\n",
              " (1, 3),\n",
              " (1, 4),\n",
              " (1, 5),\n",
              " (1, 6),\n",
              " (2, 1),\n",
              " (2, 2),\n",
              " (2, 3),\n",
              " (2, 4),\n",
              " (2, 5),\n",
              " (2, 6),\n",
              " (3, 1),\n",
              " (3, 2),\n",
              " (3, 3),\n",
              " (3, 4),\n",
              " (3, 5),\n",
              " (3, 6),\n",
              " (4, 1),\n",
              " (4, 2),\n",
              " (4, 3),\n",
              " (4, 4),\n",
              " (4, 5),\n",
              " (4, 6),\n",
              " (5, 1),\n",
              " (5, 2),\n",
              " (5, 3),\n",
              " (5, 4),\n",
              " (5, 5),\n",
              " (5, 6),\n",
              " (6, 1),\n",
              " (6, 2),\n",
              " (6, 3),\n",
              " (6, 4),\n",
              " (6, 5),\n",
              " (6, 6)]"
            ]
          },
          "execution_count": 60,
          "metadata": {},
          "output_type": "execute_result"
        }
      ],
      "source": [
        "# Example: Rolling two dice and getting a 4 on both\n",
        "sample_space = [(i, j) for i in range(1, 7) for j in range(1, 7)]\n",
        "event = (4, 4)\n",
        "probability = sample_space.count(event) / len(sample_space)\n",
        "sample_space"
      ]
    },
    {
      "cell_type": "markdown",
      "metadata": {
        "id": "edcrPk8quD7z"
      },
      "source": [
        "### 4. Conditional Probability:\n",
        "\n",
        "Formula: $$ P(A|B) = \\frac{{P(A \\cap B)}}{{P(B)}} $$\n",
        "\n",
        "Example: Drawing a second Ace from a deck given the first Ace, $$ P(\\text{Second Ace} | \\text{First Ace}) = \\frac{3}{51} $$.\n"
      ]
    },
    {
      "cell_type": "markdown",
      "metadata": {
        "id": "Mz0peZavve1x"
      },
      "source": [
        "### 4. Conditional Probability:"
      ]
    },
    {
      "cell_type": "code",
      "execution_count": null,
      "metadata": {
        "id": "x6tnv-4tvipv"
      },
      "outputs": [],
      "source": [
        "# Example: Drawing a second Ace from a deck given the first Ace\n",
        "P_first_ace = 4 / 52\n",
        "P_second_ace_given_first = 3 / 51\n",
        "conditional_probability = P_second_ace_given_first / P_first_ace"
      ]
    },
    {
      "cell_type": "markdown",
      "metadata": {
        "id": "UlQPsJzXubpY"
      },
      "source": [
        "### 5. Addition Rule:\n",
        "\n",
        "Conditional probability is the probability of an event occurring given that another event has already occurred. It's denoted by P(A∣B)P(A∣B), which reads as \"the probability of event AA given event BB\".\n",
        "\n",
        "Formula: $$ P(A \\cup B) = P(A) + P(B) - P(A \\cap B) $$\n",
        "\n",
        "Example: Getting a 4 or 5 on a six-sided die, $$ P(\\text{4 or 5}) = \\frac{1}{3} $$\n"
      ]
    },
    {
      "cell_type": "markdown",
      "metadata": {
        "id": "4XP4PpzkvnGZ"
      },
      "source": [
        "### 5. Addition Rule:"
      ]
    },
    {
      "cell_type": "code",
      "execution_count": null,
      "metadata": {
        "id": "vy1TrWoXvq3v"
      },
      "outputs": [],
      "source": [
        "# Example: Probability of Getting a 4 or 5 on a Six-sided Die\n",
        "sample_space = [1, 2, 3, 4, 5, 6]\n",
        "event_A = [4]\n",
        "event_B = [5]\n",
        "probability = len(set(event_A + event_B)) / len(sample_space)"
      ]
    },
    {
      "cell_type": "markdown",
      "metadata": {
        "id": "cx4gDXkFurf-"
      },
      "source": [
        "### 6. Multiplication Rule (for independent events):\n",
        "\n",
        "Formula: $$ P(A \\cap B) = P(A) \\times P(B) $$\n",
        "\n",
        "Example: Getting a 2 and a 3 on two rolls of a six-sided die (assuming independence), $$ P(\\text{2 and 3}) = \\frac{1}{36} $$.\n",
        "\n",
        "These examples demonstrate how to use the formulas for different types of probability events. Remember, in real-world scenarios, you may encounter more complex situations that require a combination of these basic rules.\n"
      ]
    },
    {
      "cell_type": "markdown",
      "metadata": {
        "id": "b8JgJJB3vygH"
      },
      "source": [
        "### 6. Multiplication Rule (for independent eve):"
      ]
    },
    {
      "cell_type": "code",
      "execution_count": null,
      "metadata": {
        "colab": {
          "base_uri": "https://localhost:8080/"
        },
        "id": "L_JOz2TIv4y6",
        "outputId": "2120dc60-2585-4da6-de46-2ba08232b8f5"
      },
      "outputs": [
        {
          "data": {
            "text/plain": [
              "0.027777777777777776"
            ]
          },
          "execution_count": 66,
          "metadata": {},
          "output_type": "execute_result"
        }
      ],
      "source": [
        "# Example: Probability of Getting a 2 and a 3 on Two Rolls of a Six-sided Die\n",
        "sample_space = [(i, j) for i in range(1, 7) for j in range(1, 7)]\n",
        "event_A = [(2, _) for _ in range(1, 7)]  # Getting a 2 on first roll\n",
        "event_B = [(_, 3) for _ in range(1, 7)]  # Getting a 3 on second roll\n",
        "probability = len(set(event_A) & set(event_B)) / len(sample_space)\n",
        "probability"
      ]
    },
    {
      "cell_type": "markdown",
      "metadata": {
        "id": "tzNxk-lWv898"
      },
      "source": [
        "# Permutations"
      ]
    },
    {
      "cell_type": "markdown",
      "metadata": {
        "id": "zpm8fvK3wCiB"
      },
      "source": [
        "# **Permutations:**\n",
        "\n",
        "In mathematics, a permutation is an ordered arrangement of objects without replacement. It represents the number of ways to arrange \\( r \\) objects taken from a set of \\( n \\) distinct objects. This number is denoted as \\( P(n, r) \\), where \\( n \\) is the total number of distinct objects and \\( r \\) is the number of objects to be arranged.\n"
      ]
    },
    {
      "cell_type": "markdown",
      "metadata": {
        "id": "QQrR_7CDwIRh"
      },
      "source": [
        "### Formula for Permutations:\n",
        "\n",
        "The formula for permutations \\( P(n, r) \\) represents the number of ways to arrange \\( r \\) objects out of \\( n \\) distinct objects in a specific order. It is calculated using the formula:\n",
        "\n",
        "$$ P(n, r) = \\frac{n!}{(n - r)!} $$\n",
        "\n",
        "Where:\n",
        "- \\( n! \\) denotes the factorial of \\( n \\), which is the product of all positive integers up to \\( n \\).\n",
        "- \\( (n - r)! \\) represents the factorial of \\( n - r \\), ensuring that each arrangement is counted exactly once.\n",
        "\n",
        "This formula is fundamental in combinatorics and is used to solve various problems involving arrangements and permutations.\n"
      ]
    },
    {
      "cell_type": "markdown",
      "metadata": {
        "id": "wBDUt40EweEb"
      },
      "source": [
        "### Example in Python:\n",
        "\n",
        "Let's say we have a set of \\(n = 5\\) distinct objects and we want to find the number of permutations of \\(r = 3\\) objects taken at a time.\n"
      ]
    },
    {
      "cell_type": "code",
      "execution_count": null,
      "metadata": {
        "id": "RAXdwIXOwjkA"
      },
      "outputs": [],
      "source": [
        "from math import factorial\n",
        "\n",
        "n = 5  # Total number of distinct objects\n",
        "r = 3  # Number of objects taken at a time\n",
        "\n",
        "# Calculate permutations\n",
        "permutations = factorial(n) // factorial(n - r)"
      ]
    },
    {
      "cell_type": "markdown",
      "metadata": {
        "id": "8EdbCon9wrmf"
      },
      "source": [
        "Explanation:\n",
        "- In this example, we have \\( n = 5 \\) and \\( r = 3 \\), so we want to find the number of ways to arrange 3 objects out of 5.\n",
        "- The factorial of 5, denoted as \\( 5! \\), is calculated as \\( 5 \\times 4 \\times 3 \\times 2 \\times 1 = 120 \\).\n",
        "- Similarly, the factorial of 2, denoted as \\( 2! \\), is calculated as \\( 2 \\times 1 = 2 \\).\n",
        "- Therefore, the number of permutations \\( P(5, 3) \\) is obtained by dividing \\( 5! \\) by \\( 2! \\), which results in \\( \\frac{120}{2} = 60 \\).\n"
      ]
    },
    {
      "cell_type": "markdown",
      "metadata": {
        "id": "aNpNGPhExbvE"
      },
      "source": [
        "So, there are 60 different permutations of 3 objects taken from a set of 5 distinct objects."
      ]
    },
    {
      "cell_type": "markdown",
      "metadata": {
        "id": "9Geq0c8lxe4x"
      },
      "source": [
        "# Combinations:\n",
        "\n",
        "In mathematics, a combination represents an unordered selection of objects without replacement. It denotes the number of ways to choose \\( r \\) objects out of \\( n \\) distinct objects, disregarding the order of selection. This number is denoted as \\( C(n, r) \\), where \\( n \\) is the total number of distinct objects and \\( r \\) is the number of objects to be selected.\n"
      ]
    },
    {
      "cell_type": "markdown",
      "metadata": {
        "id": "s1SiYu3kx7XN"
      },
      "source": [
        "### Formula for Combinations:\n",
        "\n",
        "$$ C(n, r) = \\frac{n!}{r! \\cdot (n - r)!} $$\n",
        "\n",
        "Where:\n",
        "- \\(n!\\) denotes the factorial of \\(n\\).\n",
        "- \\(n!\\) is the product of all positive integers up to \\(n\\).\n",
        "- \\(r!\\) is the factorial of \\(r\\).\n"
      ]
    },
    {
      "cell_type": "markdown",
      "metadata": {
        "id": "Vk1EXk67yWSc"
      },
      "source": [
        "### Example in Python:\n",
        "\n",
        "Let's say we have a set of \\(n = 6\\) distinct objects and we want to find the number of combinations of \\(r = 2\\) objects taken at a time."
      ]
    },
    {
      "cell_type": "code",
      "execution_count": null,
      "metadata": {
        "id": "Hw9RbvTbwcbP"
      },
      "outputs": [],
      "source": [
        "from math import factorial\n",
        "\n",
        "n = 6  # Total number of distinct objects\n",
        "r = 2  # Number of objects taken at a time\n",
        "\n",
        "# Calculate combinations\n",
        "combinations = factorial(n) // (factorial(r) * factorial(n - r))"
      ]
    },
    {
      "cell_type": "markdown",
      "metadata": {
        "id": "pYHLCAJ7yfVa"
      },
      "source": [
        "Explanation:\n",
        "- In this example, we have \\( n = 6 \\) and \\( r = 2 \\), so we want to find the number of ways to select 2 objects out of 6, regardless of the order.\n",
        "- The factorial of 6, denoted as \\( 6! \\), is calculated as \\( 6 \\times 5 \\times 4 \\times 3 \\times 2 \\times 1 = 720 \\).\n",
        "- Similarly, the factorial of 2, denoted as \\( 2! \\), is calculated as \\( 2 \\times 1 = 2 \\).\n",
        "- Therefore, the number of combinations \\( C(6, 2) \\) is obtained by dividing \\( 720 \\) by \\( 2 \\times 2 \\), resulting in \\( \\frac{720}{(2 \\times 2)} = 15 \\).\n"
      ]
    },
    {
      "cell_type": "markdown",
      "metadata": {
        "id": "9Wd9IG72ylqM"
      },
      "source": [
        "So, there are 15 different combinations of 2 objects taken from a set of 6 distinct objects.\n",
        "\n",
        "**Note**: In Python, the `factorial` function is available in the `math` module. The `//` operator is used for integer division.\n",
        "\n",
        "This formula is widely used in combinatorics and probability theory to calculate selections of objects in various scenarios."
      ]
    }
  ],
  "metadata": {
    "colab": {
      "collapsed_sections": [
        "4XP4PpzkvnGZ"
      ],
      "provenance": [],
      "include_colab_link": true
    },
    "kernelspec": {
      "display_name": "Python 3",
      "name": "python3"
    },
    "language_info": {
      "name": "python"
    }
  },
  "nbformat": 4,
  "nbformat_minor": 0
}